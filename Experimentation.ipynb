{
 "cells": [
  {
   "cell_type": "code",
   "execution_count": null,
   "id": "31e23827",
   "metadata": {},
   "outputs": [],
   "source": [
    "from detectron2.config import get_cfg\n",
    "from detectron2.modeling import build_model\n"
   ]
  },
  {
   "cell_type": "code",
   "execution_count": null,
   "id": "56b79ddd",
   "metadata": {},
   "outputs": [],
   "source": []
  },
  {
   "cell_type": "code",
   "execution_count": null,
   "id": "b3b7b954",
   "metadata": {},
   "outputs": [],
   "source": []
  },
  {
   "cell_type": "code",
   "execution_count": null,
   "id": "54cb85b6",
   "metadata": {},
   "outputs": [],
   "source": []
  },
  {
   "cell_type": "code",
   "execution_count": null,
   "id": "f2cd67f3",
   "metadata": {},
   "outputs": [],
   "source": []
  },
  {
   "cell_type": "markdown",
   "id": "0934d297",
   "metadata": {},
   "source": [
    "## Load base detectron2 model, run predict on test images"
   ]
  },
  {
   "cell_type": "code",
   "execution_count": null,
   "id": "4c8ca14c",
   "metadata": {},
   "outputs": [],
   "source": [
    "cfg = get_cfg()\n",
    "cfg.merge_from_file(model_zoo.get_config_file(\"COCO-Detection/faster_rcnn_R_50_FPN_3x.yaml\"))\n",
    "cfg.MODEL.ROI_HEADS.SCORE_THRESH_TEST = 0.9\n",
    "cfg.MODEL.WEIGHTS = model_zoo.get_checkpoint_url(\"COCO-Detection/faster_rcnn_R_50_FPN_3x.yaml\")\n",
    "\n",
    "model = build_model(cfg).to(device).eval()"
   ]
  },
  {
   "cell_type": "code",
   "execution_count": null,
   "id": "0fa09a98",
   "metadata": {},
   "outputs": [],
   "source": [
    "img = cv2.imread('000000000001.jpg')\n",
    "device = torch.device(\"cuda\")"
   ]
  },
  {
   "cell_type": "code",
   "execution_count": null,
   "id": "e724f889",
   "metadata": {},
   "outputs": [],
   "source": []
  },
  {
   "cell_type": "code",
   "execution_count": null,
   "id": "e7046279",
   "metadata": {},
   "outputs": [],
   "source": []
  },
  {
   "cell_type": "code",
   "execution_count": null,
   "id": "71d88057",
   "metadata": {},
   "outputs": [],
   "source": []
  },
  {
   "cell_type": "markdown",
   "id": "657f42c9",
   "metadata": {},
   "source": [
    "## Add modified classes to change output of model"
   ]
  },
  {
   "cell_type": "code",
   "execution_count": 1,
   "id": "57e1ad66",
   "metadata": {},
   "outputs": [],
   "source": [
    "from modified_classes import ModifiedFastRCNNOutputLayers, ModifiedImageList"
   ]
  },
  {
   "cell_type": "code",
   "execution_count": null,
   "id": "5b8d282a",
   "metadata": {},
   "outputs": [],
   "source": [
    "model.roi_heads.box_predictor = ModifiedFastRCNNOutputLayers(model.roi_heads.box_predictor)\n",
    "\n",
    "def new_preprocess_image(self, batched_inputs: torch.Tensor):\n",
    "      \"\"\"\n",
    "      Normalize, pad and batch the input images.\n",
    "      \"\"\"\n",
    "      # print(type(batched_inputs))\n",
    "      images = [x.to(self.device) for x in batched_inputs]\n",
    "      images = [(x - self.pixel_mean) / self.pixel_std for x in images]\n",
    "      images = ModifiedImageList.from_tensors(images, self.backbone.size_divisibility) # Extend ImageList to new object\n",
    "      return images\n",
    "\n",
    "def _new_postprocess(instances, batched_inputs: torch.Tensor, image_sizes):\n",
    "        \"\"\"\n",
    "        Rescale the output instances to the target size.\n",
    "        \"\"\"\n",
    "        # note: private function; subject to changes\n",
    "        processed_results = []\n",
    "        # print(type(batched_inputs))\n",
    "        for results_per_image, input_per_image, image_size in zip(\n",
    "            instances, batched_inputs, image_sizes\n",
    "        ):\n",
    "            height = image_size[0]\n",
    "            width = image_size[1]\n",
    "            from detectron2.modeling.postprocessing import detector_postprocess\n",
    "            r = detector_postprocess(results_per_image, height, width)\n",
    "            processed_results.append({\"instances\": r})\n",
    "        return processed_results\n",
    "\n",
    "model.preprocess_image = MethodType(new_preprocess_image, model)\n",
    "model.__class__._postprocess = _new_postprocess\n",
    "model.roi_heads.forward_with_given_boxes = MethodType(lambda self, x, y: y, model)\n",
    "\n",
    "modified = model\n",
    "\n",
    "DetectionCheckpointer(modified).load(cfg.MODEL.WEIGHTS)\n",
    "modified.to(device)"
   ]
  },
  {
   "cell_type": "code",
   "execution_count": null,
   "id": "3af8fabb",
   "metadata": {},
   "outputs": [],
   "source": []
  },
  {
   "cell_type": "code",
   "execution_count": null,
   "id": "3de01848",
   "metadata": {},
   "outputs": [],
   "source": []
  },
  {
   "cell_type": "code",
   "execution_count": null,
   "id": "8dd0a3d9",
   "metadata": {},
   "outputs": [],
   "source": []
  }
 ],
 "metadata": {
  "kernelspec": {
   "display_name": "captum",
   "language": "python",
   "name": "captum"
  },
  "language_info": {
   "codemirror_mode": {
    "name": "ipython",
    "version": 3
   },
   "file_extension": ".py",
   "mimetype": "text/x-python",
   "name": "python",
   "nbconvert_exporter": "python",
   "pygments_lexer": "ipython3",
   "version": "3.8.10"
  }
 },
 "nbformat": 4,
 "nbformat_minor": 5
}
